{
 "cells": [
  {
   "cell_type": "markdown",
   "id": "5a8d29fa",
   "metadata": {},
   "source": [
    "# How to...perform exact matching on trustable attributes"
   ]
  },
  {
   "cell_type": "code",
   "execution_count": null,
   "id": "8a03d042",
   "metadata": {},
   "outputs": [],
   "source": [
    "# Sets up the location of the api relative to this notebook \n",
    "import sys\n",
    "sys.path.append('/opt/app-root/src/esg-matching/')"
   ]
  },
  {
   "cell_type": "code",
   "execution_count": null,
   "id": "c6f71c0b",
   "metadata": {},
   "outputs": [],
   "source": [
    "# Import the module for accessing a database\n",
    "from esgmatching.dbmanager.SqlEngine import SqlEngine"
   ]
  },
  {
   "cell_type": "code",
   "execution_count": null,
   "id": "ce4293e1",
   "metadata": {
    "tags": []
   },
   "outputs": [],
   "source": [
    "# Import the module for reading csv files\n",
    "from esgmatching.reader.FileReaderCsvToDB import FileReaderCsvToDB"
   ]
  },
  {
   "cell_type": "code",
   "execution_count": null,
   "id": "a772228e",
   "metadata": {},
   "outputs": [],
   "source": [
    "# Import the module for reading csv files\n",
    "from esgmatching.matcher.ExactMatcherDB import ExactMatcherDB"
   ]
  },
  {
   "cell_type": "markdown",
   "id": "0c2c7fd6",
   "metadata": {},
   "source": [
    "## 1. Settings"
   ]
  },
  {
   "cell_type": "code",
   "execution_count": null,
   "id": "3c6eb429",
   "metadata": {},
   "outputs": [],
   "source": [
    "# Localization of the database to be created in relation to this jupyter notebook\n",
    "# The database will be created in the /data/dabase folder, under the project main folder (EntityMatching)\n",
    "path_db = '/opt/app-root/src/esg-matching/data/database/'"
   ]
  },
  {
   "cell_type": "code",
   "execution_count": null,
   "id": "6b0651d1",
   "metadata": {},
   "outputs": [],
   "source": [
    "# String connection used for sqlite. Others databases might require different information.\n",
    "# In this example the connection is a combination of [sqlite statement] + [database path] + [database name]\n",
    "str_connection = 'sqlite:///' + path_db + 'entitymatching.db'\n",
    "str_connection"
   ]
  },
  {
   "cell_type": "code",
   "execution_count": null,
   "id": "7caa247e",
   "metadata": {},
   "outputs": [],
   "source": [
    "# The database engine object is created by passing the string connection \n",
    "sqlengine_obj = SqlEngine(str_connection)"
   ]
  },
  {
   "cell_type": "code",
   "execution_count": null,
   "id": "17ea404a",
   "metadata": {},
   "outputs": [],
   "source": [
    "# The connect() method of the SqlEngine is used to stablish a connection with the database if it exists, \n",
    "# or to create a new one, otherwise. The parameter show_echo is False by default and indicates if the SQL statements \n",
    "# are echoed (or printed) in the default output channel. Therefore, let's set show_echo = True to see the Sql statements. \n",
    "sqlengine_obj.connect(show_echo=True)"
   ]
  },
  {
   "cell_type": "code",
   "execution_count": null,
   "id": "72715f52",
   "metadata": {},
   "outputs": [],
   "source": [
    "# Check if the connection was stablished\n",
    "sqlengine_obj.is_connected()"
   ]
  },
  {
   "cell_type": "markdown",
   "id": "4b2e9a2b",
   "metadata": {},
   "source": [
    "## 2. Read the csv files into the database"
   ]
  },
  {
   "cell_type": "code",
   "execution_count": null,
   "id": "99ced735",
   "metadata": {},
   "outputs": [],
   "source": [
    "# Path to the csv files and its mapping files\n",
    "# Localization of the test files\n",
    "path_test = '/opt/app-root/src/esg-matching/data/test/'"
   ]
  },
  {
   "cell_type": "code",
   "execution_count": null,
   "id": "5741be70",
   "metadata": {},
   "outputs": [],
   "source": [
    "# CSV file for Data source 1 \n",
    "file1_path = path_test + 'test_data_source1.csv'\n",
    "file1_path"
   ]
  },
  {
   "cell_type": "code",
   "execution_count": null,
   "id": "bf71c484",
   "metadata": {},
   "outputs": [],
   "source": [
    "# Data mapping for Data source 1\n",
    "file1_map = path_test + 'test_data_source1.json'\n",
    "file1_map"
   ]
  },
  {
   "cell_type": "code",
   "execution_count": null,
   "id": "6c38293c",
   "metadata": {},
   "outputs": [],
   "source": [
    "# Initialize the FileReader\n",
    "csvreader_obj = FileReaderCsvToDB()"
   ]
  },
  {
   "cell_type": "code",
   "execution_count": null,
   "id": "f1453670",
   "metadata": {},
   "outputs": [],
   "source": [
    "# Set the database engine into the FileReader\n",
    "csvreader_obj.set_database_engine(sqlengine_obj, use_session=True)"
   ]
  },
  {
   "cell_type": "code",
   "execution_count": null,
   "id": "9fd5c211",
   "metadata": {},
   "outputs": [],
   "source": [
    "# Read 'test_data_source1.csv'\n",
    "ref_data_source = csvreader_obj.read_file(file1_path, file1_map, delimiter=',', chunk_size=10)"
   ]
  },
  {
   "cell_type": "code",
   "execution_count": null,
   "id": "87e8d4e1",
   "metadata": {},
   "outputs": [],
   "source": [
    "# CSV file for Data source 2 \n",
    "file2_path = path_test + 'test_data_source2.csv'\n",
    "file2_path"
   ]
  },
  {
   "cell_type": "code",
   "execution_count": null,
   "id": "272dfa7e",
   "metadata": {},
   "outputs": [],
   "source": [
    "# Data mapping for Data source 2\n",
    "file2_map = path_test + 'test_data_source2.json'\n",
    "file2_map"
   ]
  },
  {
   "cell_type": "code",
   "execution_count": null,
   "id": "7e0c96d6",
   "metadata": {},
   "outputs": [],
   "source": [
    "# Read 'test_data_source2.csv'\n",
    "target_data_source = csvreader_obj.read_file(file2_path, file2_map, delimiter=',', chunk_size=10)"
   ]
  },
  {
   "cell_type": "code",
   "execution_count": null,
   "id": "7f1e27f8",
   "metadata": {},
   "outputs": [],
   "source": [
    "# CSV file for Data source 3 \n",
    "file3_path = path_test + 'test_data_source3.csv'\n",
    "file3_path"
   ]
  },
  {
   "cell_type": "code",
   "execution_count": null,
   "id": "76c14124",
   "metadata": {},
   "outputs": [],
   "source": [
    "# Data mapping for Data source 3\n",
    "file3_map = path_test + 'test_data_source3.json'\n",
    "file3_map"
   ]
  },
  {
   "cell_type": "code",
   "execution_count": null,
   "id": "9bad0c10",
   "metadata": {},
   "outputs": [],
   "source": [
    "# Read 'test_data_source3.csv'\n",
    "target_data_source2 = csvreader_obj.read_file(file3_path, file3_map, delimiter=',', chunk_size=10)"
   ]
  },
  {
   "cell_type": "markdown",
   "id": "f5511574",
   "metadata": {},
   "source": [
    "## 3. Perform matching"
   ]
  },
  {
   "cell_type": "code",
   "execution_count": null,
   "id": "eb8114b7",
   "metadata": {},
   "outputs": [],
   "source": [
    "matcher_obj = ExactMatcherDB('Matching_DS1_DS2',ref_data_source)"
   ]
  },
  {
   "cell_type": "code",
   "execution_count": null,
   "id": "1fcb292a",
   "metadata": {},
   "outputs": [],
   "source": [
    "matcher_obj.add_target_data_sources(target_data_source)"
   ]
  },
  {
   "cell_type": "code",
   "execution_count": null,
   "id": "a954febc",
   "metadata": {},
   "outputs": [],
   "source": [
    "matcher_obj.add_target_data_sources(target_data_source2)"
   ]
  },
  {
   "cell_type": "code",
   "execution_count": null,
   "id": "7310b0ef",
   "metadata": {},
   "outputs": [],
   "source": [
    "matcher_obj.set_database_engine(sqlengine_obj)"
   ]
  },
  {
   "cell_type": "code",
   "execution_count": null,
   "id": "b9a8966f",
   "metadata": {},
   "outputs": [],
   "source": [
    "matching_report_obj = matcher_obj.execute_matching('Matching_Table')"
   ]
  },
  {
   "cell_type": "code",
   "execution_count": null,
   "id": "57ec3fc1",
   "metadata": {},
   "outputs": [],
   "source": [
    "matcher_obj.execute_indirect_matching()"
   ]
  },
  {
   "cell_type": "code",
   "execution_count": null,
   "id": "61e56bff",
   "metadata": {
    "scrolled": true
   },
   "outputs": [],
   "source": [
    "matching_report_obj.print_report()"
   ]
  },
  {
   "cell_type": "markdown",
   "id": "612dd50d",
   "metadata": {},
   "source": [
    "## 5. Drop Tables"
   ]
  },
  {
   "cell_type": "code",
   "execution_count": null,
   "id": "73b3e457",
   "metadata": {},
   "outputs": [],
   "source": [
    "sqlengine_obj.drop_table(ref_data_source.table_obj)"
   ]
  },
  {
   "cell_type": "code",
   "execution_count": null,
   "id": "48cacfa4",
   "metadata": {},
   "outputs": [],
   "source": [
    "sqlengine_obj.drop_table(target_data_source.table_obj)"
   ]
  },
  {
   "cell_type": "code",
   "execution_count": null,
   "id": "fc610014",
   "metadata": {},
   "outputs": [],
   "source": [
    "sqlengine_obj.drop_table(target_data_source2.table_obj)"
   ]
  },
  {
   "cell_type": "markdown",
   "id": "1adcdc7c",
   "metadata": {},
   "source": [
    "## 6. Close database connection"
   ]
  },
  {
   "cell_type": "code",
   "execution_count": null,
   "id": "2ef4c4f6",
   "metadata": {},
   "outputs": [],
   "source": [
    "sqlengine_obj.disconnect()"
   ]
  },
  {
   "cell_type": "code",
   "execution_count": null,
   "id": "03f2c9fd",
   "metadata": {},
   "outputs": [],
   "source": []
  }
 ],
 "metadata": {
  "kernelspec": {
   "display_name": "Python 3",
   "language": "python",
   "name": "python3"
  },
  "language_info": {
   "codemirror_mode": {
    "name": "ipython",
    "version": 3
   },
   "file_extension": ".py",
   "mimetype": "text/x-python",
   "name": "python",
   "nbconvert_exporter": "python",
   "pygments_lexer": "ipython3",
   "version": "3.8.3"
  }
 },
 "nbformat": 4,
 "nbformat_minor": 5
}
