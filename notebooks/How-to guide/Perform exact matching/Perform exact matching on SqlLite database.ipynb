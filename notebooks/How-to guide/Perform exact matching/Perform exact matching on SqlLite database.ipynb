{
 "cells": [
  {
   "cell_type": "markdown",
   "id": "5874e187",
   "metadata": {},
   "source": [
    "# How to...perform exact matching on SqlLite database"
   ]
  },
  {
   "cell_type": "code",
   "execution_count": 1,
   "id": "cce6ec58",
   "metadata": {},
   "outputs": [],
   "source": [
    "# Sets up the location of the api relative to this notebook \n",
    "import sys\n",
    "sys.path.append('../../../')"
   ]
  },
  {
   "cell_type": "code",
   "execution_count": 2,
   "id": "b7e4afad",
   "metadata": {},
   "outputs": [],
   "source": [
    "# Import the module for connection to a sqllite database\n",
    "from esg_matching.engine.connectors.sql_lite import SqlLiteConnector"
   ]
  },
  {
   "cell_type": "code",
   "execution_count": 3,
   "id": "147febf3",
   "metadata": {},
   "outputs": [],
   "source": [
    "# Import the modules for file management\n",
    "from esg_matching.file_reader.file import File\n",
    "from esg_matching.file_reader.csv_reader import FileReaderCsv"
   ]
  },
  {
   "cell_type": "code",
   "execution_count": 4,
   "id": "3510ba98",
   "metadata": {},
   "outputs": [],
   "source": [
    "# Import the modules for the etl processing: reading, transformation and loading data to a database\n",
    "from esg_matching.processing.etl import EtlProcessing"
   ]
  },
  {
   "cell_type": "markdown",
   "id": "cd980ffa",
   "metadata": {},
   "source": [
    "## 1. Database setup"
   ]
  },
  {
   "cell_type": "code",
   "execution_count": 5,
   "id": "8cab963e",
   "metadata": {},
   "outputs": [],
   "source": [
    "# Localization of the database to be created in relation to this jupyter notebook\n",
    "# The database will be created in the /data/dabase folder, under the project main folder\n",
    "path_db = '../../../tests/data/howto/sqlite/test_esg_matching.db'"
   ]
  },
  {
   "cell_type": "code",
   "execution_count": 6,
   "id": "1d521c01",
   "metadata": {},
   "outputs": [],
   "source": [
    "# The database connector is represented by the class SqlLiteConnector \n",
    "db_conn = SqlLiteConnector()"
   ]
  },
  {
   "cell_type": "code",
   "execution_count": 7,
   "id": "dfbb576f",
   "metadata": {},
   "outputs": [],
   "source": [
    "# The connect() method of the SqlLiteConnector is used to stablish a connection with the database if it exists, \n",
    "# or to create a new one. The property path_db defines the location and name of the database.\n",
    "# The  property show_sql_statement indicates if the SQL statements are echoed (or printed) in the default output channel.\n",
    "db_conn.path_db = path_db\n",
    "db_conn.show_sql_statement = False\n",
    "db_conn.connect()"
   ]
  },
  {
   "cell_type": "code",
   "execution_count": 8,
   "id": "ee2ddb08",
   "metadata": {},
   "outputs": [
    {
     "data": {
      "text/plain": [
       "True"
      ]
     },
     "execution_count": 8,
     "metadata": {},
     "output_type": "execute_result"
    }
   ],
   "source": [
    "# Check if the connection was stablished\n",
    "db_conn.is_connected()"
   ]
  },
  {
   "cell_type": "markdown",
   "id": "3d2f76ce",
   "metadata": {},
   "source": [
    "## 2. Load the data into database from csv files"
   ]
  },
  {
   "cell_type": "code",
   "execution_count": 9,
   "id": "276f781c",
   "metadata": {},
   "outputs": [],
   "source": [
    "# Create an ETL process object\n",
    "etl_proc_obj = EtlProcessing(db_conn)"
   ]
  },
  {
   "cell_type": "code",
   "execution_count": 10,
   "id": "3226f31f",
   "metadata": {},
   "outputs": [],
   "source": [
    "# Crete a file reader object for csv files\n",
    "csv_reader_obj = FileReaderCsv()  "
   ]
  },
  {
   "cell_type": "code",
   "execution_count": 11,
   "id": "43c8d0a3",
   "metadata": {},
   "outputs": [],
   "source": [
    "# Referential Data Source\n",
    "ref_settings = '../../../tests/data/howto/sqlite/test_referential1_sqlite.json'\n",
    "ref_obj = File(ref_settings)"
   ]
  },
  {
   "cell_type": "code",
   "execution_count": 12,
   "id": "ef7fbd4d",
   "metadata": {},
   "outputs": [
    {
     "name": "stdout",
     "output_type": "stream",
     "text": [
      "{'unique_id': '1', 'isin': 'SK1120005824', 'company': 'CENTRAL PERK', 'country': 'SK'}\n",
      "{'unique_id': '2', 'isin': <sqlalchemy.sql.elements.Null object at 0x0000028E9456B4C0>, 'company': 'HONEYDUKES', 'country': 'UNITED STATES OF AMERICA'}\n",
      "{'unique_id': '3', 'isin': <sqlalchemy.sql.elements.Null object at 0x0000028E9456B4C0>, 'company': 'STARCOURT MALL', 'country': 'AUSTRIA'}\n",
      "{'unique_id': '4', 'isin': 'GB00B1YW4409', 'company': 'STERLING COOPER', 'country': 'GBR'}\n",
      "{'unique_id': '5', 'isin': 'CH0012221716', 'company': 'Bluth company', 'country': 'CHE'}\n",
      "{'unique_id': '6', 'isin': 'US0200021014', 'company': 'InGen', 'country': 'usa'}\n",
      "{'unique_id': '7', 'isin': 'US0231351067', 'company': 'Stark Industries', 'country': 'us'}\n",
      "{'unique_id': '8', 'isin': 'US0126531013', 'company': 'SPECTRE', 'country': 'USA'}\n",
      "{'unique_id': '9', 'isin': 'US0126531013', 'company': 'SPECTRE 33 SUBSIDIARY', 'country': 'USA'}\n"
     ]
    }
   ],
   "source": [
    "# Load data from REFERENCIAL\n",
    "db_ref = etl_proc_obj.load_file_to_db(ref_obj, csv_reader_obj)"
   ]
  },
  {
   "cell_type": "code",
   "execution_count": 13,
   "id": "e564888f",
   "metadata": {},
   "outputs": [],
   "source": [
    "# Target Data Sources\n",
    "tgt1_settings = '../../../tests/data/howto/sqlite/test_target1_sqlite.json'\n",
    "tgt1_obj = File(tgt1_settings)"
   ]
  },
  {
   "cell_type": "code",
   "execution_count": 14,
   "id": "ca7f666a",
   "metadata": {},
   "outputs": [
    {
     "name": "stdout",
     "output_type": "stream",
     "text": [
      "{'unique_id': '1', 'isin': 'SK1120005824', 'lei': '097900BHK10000084115', 'company': 'CENTRAL PERK AND SONS', 'country': 'DE'}\n",
      "{'unique_id': '2', 'isin': 'DE0005545503', 'lei': '5299003VKVDCUPSS5X23', 'company': 'DUNDER MIFFLINS [12345]', 'country': 'de'}\n",
      "{'unique_id': '3', 'isin': <sqlalchemy.sql.elements.Null object at 0x0000028E9456B4C0>, 'lei': '254900B1P3S786KDAW57', 'company': 'HONEYDUKES (adm@honeydukes.com)', 'country': 'UNITED STATES OF AMERICA'}\n",
      "{'unique_id': '4', 'isin': <sqlalchemy.sql.elements.Null object at 0x0000028E9456B4C0>, 'lei': '529900MVZ2YHFZV3K546', 'company': 'STARCOURT MALL', 'country': 'AUSTRIA'}\n",
      "{'unique_id': '5', 'isin': 'GB00B1YW4409', 'lei': <sqlalchemy.sql.elements.Null object at 0x0000028E9456B4C0>, 'company': 'Krusty Krab', 'country': 'GB'}\n",
      "{'unique_id': '6', 'isin': <sqlalchemy.sql.elements.Null object at 0x0000028E9456B4C0>, 'lei': '3003007MR0P683GYR674', 'company': 'RR DINER', 'country': 'CHINA'}\n",
      "{'unique_id': '7', 'isin': 'US0231351067', 'lei': 'ZXTILKJKG63JELOEG630', 'company': 'Starks Industries and Association', 'country': 'usa'}\n",
      "{'unique_id': '8', 'isin': 'US0126531013', 'lei': 'HDBLS2Q6GV1LSKQPBS54', 'company': 'SPECTRE UNIVERSAL LIMITED', 'country': 'USA'}\n"
     ]
    }
   ],
   "source": [
    "# Load data from TARGET 1\n",
    "db_tgt1 = etl_proc_obj.load_file_to_db(tgt1_obj, csv_reader_obj)"
   ]
  },
  {
   "cell_type": "code",
   "execution_count": 15,
   "id": "2cebadfb",
   "metadata": {},
   "outputs": [
    {
     "data": {
      "text/plain": [
       "{'matching_with_ref1': {'dfm': {'isin': ['isin']},\n",
       "  'drm': {'name+country': ['company', 'country']},\n",
       "  'irm': {'isin': ['isin'],\n",
       "   'lei': ['lei'],\n",
       "   'name+country': ['company', 'country']}}}"
      ]
     },
     "execution_count": 15,
     "metadata": {},
     "output_type": "execute_result"
    }
   ],
   "source": [
    "db_tgt1.get_policy_definition()"
   ]
  },
  {
   "cell_type": "code",
   "execution_count": 16,
   "id": "82e4a9c2",
   "metadata": {},
   "outputs": [],
   "source": [
    "# Target Data Sources\n",
    "tgt2_settings = '../../../tests/data/howto/sqlite/test_target2_sqlite.json'\n",
    "tgt2_obj = File(tgt2_settings)"
   ]
  },
  {
   "cell_type": "code",
   "execution_count": 17,
   "id": "1c9ee10a",
   "metadata": {},
   "outputs": [
    {
     "name": "stdout",
     "output_type": "stream",
     "text": [
      "{'unique_id': '1', 'isin': <sqlalchemy.sql.elements.Null object at 0x0000028E9456B4C0>, 'lei': '097900BHK10000084115', 'sedol': '7108899', 'company': 'HONEYDUKES', 'country': 'UNITED STATES'}\n",
      "{'unique_id': '2', 'isin': <sqlalchemy.sql.elements.Null object at 0x0000028E9456B4C0>, 'lei': <sqlalchemy.sql.elements.Null object at 0x0000028E9456B4C0>, 'sedol': <sqlalchemy.sql.elements.Null object at 0x0000028E9456B4C0>, 'company': 'STARCOURT MALL', 'country': 'AUSTRIA'}\n",
      "{'unique_id': '3', 'isin': 'CH0012221716', 'lei': <sqlalchemy.sql.elements.Null object at 0x0000028E9456B4C0>, 'sedol': <sqlalchemy.sql.elements.Null object at 0x0000028E9456B4C0>, 'company': 'Bluth company', 'country': 'CHE'}\n",
      "{'unique_id': '4', 'isin': 'US0200021014', 'lei': <sqlalchemy.sql.elements.Null object at 0x0000028E9456B4C0>, 'sedol': '2019952', 'company': 'InGen', 'country': 'usa'}\n",
      "{'unique_id': '5', 'isin': 'US0126531013', 'lei': <sqlalchemy.sql.elements.Null object at 0x0000028E9456B4C0>, 'sedol': '2046853', 'company': 'SPECTRE', 'country': 'USA'}\n",
      "{'unique_id': '6', 'isin': 'GB00B1YW4409', 'lei': <sqlalchemy.sql.elements.Null object at 0x0000028E9456B4C0>, 'sedol': 'B1YW440', 'company': 'STERLING COOPER', 'country': 'GBR'}\n",
      "{'unique_id': '7', 'isin': 'SK1120005824', 'lei': <sqlalchemy.sql.elements.Null object at 0x0000028E9456B4C0>, 'sedol': 'B1YW440', 'company': 'CENTRAL PERK', 'country': 'SK'}\n",
      "{'unique_id': '8', 'isin': 'DE0005545503', 'lei': <sqlalchemy.sql.elements.Null object at 0x0000028E9456B4C0>, 'sedol': '5299003VKVDCUPSS5X23', 'company': 'DUNDER MIFFLINS', 'country': 'Germany'}\n",
      "{'unique_id': '9', 'isin': 'GB00B1YW4409', 'lei': <sqlalchemy.sql.elements.Null object at 0x0000028E9456B4C0>, 'sedol': 'B1YW440', 'company': 'Krusty Kr~ab', 'country': 'GBR'}\n"
     ]
    }
   ],
   "source": [
    "# Load data from TARGET 1\n",
    "db_tgt2 = etl_proc_obj.load_file_to_db(tgt2_obj, csv_reader_obj)"
   ]
  },
  {
   "cell_type": "markdown",
   "id": "f8bb55e3",
   "metadata": {},
   "source": [
    "## 3. Creating matching/no-matching tables"
   ]
  },
  {
   "cell_type": "code",
   "execution_count": 18,
   "id": "02c7bb72",
   "metadata": {},
   "outputs": [],
   "source": [
    "match_settings = '../../../tests/data/howto/sqlite/test_matching_sqlite.json'\n",
    "no_match_settings = '../../../tests/data/howto/sqlite/test_no_matching_sqlite.json'"
   ]
  },
  {
   "cell_type": "code",
   "execution_count": 19,
   "id": "70c52c8c",
   "metadata": {},
   "outputs": [],
   "source": [
    "file_match = File(match_settings)\n",
    "file_no_match = File(no_match_settings)"
   ]
  },
  {
   "cell_type": "code",
   "execution_count": 20,
   "id": "34d69000",
   "metadata": {
    "scrolled": true
   },
   "outputs": [],
   "source": [
    "# Call the create_data_source_from_settings() method by passing the File\n",
    "db_matching = etl_proc_obj.create_data_source(file_match)"
   ]
  },
  {
   "cell_type": "code",
   "execution_count": 21,
   "id": "6d5dfd21",
   "metadata": {},
   "outputs": [],
   "source": [
    "# Call the create_data_source_from_settings() method by passing the File\n",
    "db_no_matching = etl_proc_obj.create_data_source(file_no_match)"
   ]
  },
  {
   "cell_type": "markdown",
   "id": "eb372b0d",
   "metadata": {},
   "source": [
    "## 4. Checking attribute mapping alias"
   ]
  },
  {
   "cell_type": "code",
   "execution_count": 22,
   "id": "c5f64f36",
   "metadata": {},
   "outputs": [
    {
     "data": {
      "text/plain": [
       "{'isin': Column('isin', String(), table=<esg_match_ref>),\n",
       " 'company': Column('company', String(), table=<esg_match_ref>),\n",
       " 'country': Column('country', String(), table=<esg_match_ref>)}"
      ]
     },
     "execution_count": 22,
     "metadata": {},
     "output_type": "execute_result"
    }
   ],
   "source": [
    "db_ref.get_mapping_to_alias()"
   ]
  },
  {
   "cell_type": "code",
   "execution_count": 23,
   "id": "c12daac7",
   "metadata": {},
   "outputs": [
    {
     "data": {
      "text/plain": [
       "{'isin': Column('isin', String(), table=<esg_match_tgt1>),\n",
       " 'lei': Column('lei', String(), table=<esg_match_tgt1>),\n",
       " 'company': Column('company', String(), table=<esg_match_tgt1>),\n",
       " 'country': Column('country', String(), table=<esg_match_tgt1>)}"
      ]
     },
     "execution_count": 23,
     "metadata": {},
     "output_type": "execute_result"
    }
   ],
   "source": [
    "db_tgt1.get_mapping_to_alias()"
   ]
  },
  {
   "cell_type": "code",
   "execution_count": 24,
   "id": "bef3d452",
   "metadata": {},
   "outputs": [
    {
     "data": {
      "text/plain": [
       "{'isin': Column('isin', String(), table=<esg_match_tgt2>),\n",
       " 'lei': Column('lei', String(), table=<esg_match_tgt2>),\n",
       " 'sedol': Column('sedol', String(), table=<esg_match_tgt2>),\n",
       " 'company': Column('company', String(), table=<esg_match_tgt2>),\n",
       " 'country': Column('country', String(), table=<esg_match_tgt2>)}"
      ]
     },
     "execution_count": 24,
     "metadata": {},
     "output_type": "execute_result"
    }
   ],
   "source": [
    "db_tgt2.get_mapping_to_alias()"
   ]
  },
  {
   "cell_type": "markdown",
   "id": "2b59d599",
   "metadata": {},
   "source": [
    "## 5. Checking attribute mapping between sources and matching tables"
   ]
  },
  {
   "cell_type": "code",
   "execution_count": 25,
   "id": "5667f91a",
   "metadata": {},
   "outputs": [
    {
     "data": {
      "text/plain": [
       "{'ref_id': Column('unique_id', Integer(), table=<esg_match_ref>, primary_key=True, nullable=False),\n",
       " 'ref_company': Column('company', String(), table=<esg_match_ref>),\n",
       " 'ref_country': Column('country', String(), table=<esg_match_ref>)}"
      ]
     },
     "execution_count": 25,
     "metadata": {},
     "output_type": "execute_result"
    }
   ],
   "source": [
    "db_ref.get_mapping_to_matching()"
   ]
  },
  {
   "cell_type": "code",
   "execution_count": 26,
   "id": "e0142407",
   "metadata": {},
   "outputs": [
    {
     "data": {
      "text/plain": [
       "{'tgt_id': Column('unique_id', Integer(), table=<esg_match_tgt1>, primary_key=True, nullable=False),\n",
       " 'isin': Column('isin', String(), table=<esg_match_tgt1>),\n",
       " 'lei': Column('lei', String(), table=<esg_match_tgt1>),\n",
       " 'tgt_company': Column('company', String(), table=<esg_match_tgt1>),\n",
       " 'tgt_country': Column('country', String(), table=<esg_match_tgt1>)}"
      ]
     },
     "execution_count": 26,
     "metadata": {},
     "output_type": "execute_result"
    }
   ],
   "source": [
    "db_tgt1.get_mapping_to_matching()"
   ]
  },
  {
   "cell_type": "code",
   "execution_count": 27,
   "id": "5590d258",
   "metadata": {},
   "outputs": [
    {
     "data": {
      "text/plain": [
       "{'tgt_id': Column('unique_id', Integer(), table=<esg_match_tgt2>, primary_key=True, nullable=False),\n",
       " 'isin': Column('isin', String(), table=<esg_match_tgt2>),\n",
       " 'lei': Column('lei', String(), table=<esg_match_tgt2>),\n",
       " 'sedol': Column('sedol', String(), table=<esg_match_tgt2>),\n",
       " 'tgt_company': Column('company', String(), table=<esg_match_tgt2>),\n",
       " 'tgt_country': Column('country', String(), table=<esg_match_tgt2>)}"
      ]
     },
     "execution_count": 27,
     "metadata": {},
     "output_type": "execute_result"
    }
   ],
   "source": [
    "db_tgt2.get_mapping_to_matching()"
   ]
  },
  {
   "cell_type": "markdown",
   "id": "f60ebc53",
   "metadata": {},
   "source": [
    "## 6. Create policies for matching each target data source with the referential"
   ]
  },
  {
   "cell_type": "code",
   "execution_count": 28,
   "id": "07be9e87",
   "metadata": {},
   "outputs": [],
   "source": [
    "# Import policy module\n",
    "from esg_matching.matcher.policy import MatchingPolicy"
   ]
  },
  {
   "cell_type": "code",
   "execution_count": 29,
   "id": "4fb6fa14",
   "metadata": {},
   "outputs": [],
   "source": [
    "# Create macthing policy object for target1\n",
    "policy_match_tgt1 = MatchingPolicy(db_tgt1, 'matching_with_ref1')"
   ]
  },
  {
   "cell_type": "code",
   "execution_count": 30,
   "id": "08342a83",
   "metadata": {},
   "outputs": [],
   "source": [
    "# Set the referential and matching/no-matching sources\n",
    "policy_match_tgt1.set_referential_source(db_ref)\n",
    "policy_match_tgt1.set_matching_source(db_matching)\n",
    "policy_match_tgt1.set_no_matching_source(db_no_matching)"
   ]
  },
  {
   "cell_type": "code",
   "execution_count": 31,
   "id": "e621da45",
   "metadata": {},
   "outputs": [],
   "source": [
    "# Create macthing policy object for target2\n",
    "policy_match_tgt2 = MatchingPolicy(db_tgt2, 'matching_with_ref1')"
   ]
  },
  {
   "cell_type": "code",
   "execution_count": 32,
   "id": "aaf8274f",
   "metadata": {},
   "outputs": [],
   "source": [
    "# Set the referential and matching/no-matching sources\n",
    "policy_match_tgt2.set_referential_source(db_ref)\n",
    "policy_match_tgt2.set_matching_source(db_matching)\n",
    "policy_match_tgt2.set_no_matching_source(db_no_matching)"
   ]
  },
  {
   "cell_type": "markdown",
   "id": "6e62383f",
   "metadata": {},
   "source": [
    "## 7. Perform direct full matching (DFM) for each data source"
   ]
  },
  {
   "cell_type": "code",
   "execution_count": 33,
   "id": "e1aac282",
   "metadata": {},
   "outputs": [],
   "source": [
    "# Import DFM module\n",
    "from esg_matching.matcher.dfm import DbMatcherDfm"
   ]
  },
  {
   "cell_type": "code",
   "execution_count": 34,
   "id": "8df93fe4",
   "metadata": {},
   "outputs": [],
   "source": [
    "# Create a matcher object for DFM\n",
    "dfm_matcher_obj = DbMatcherDfm(db_conn)"
   ]
  },
  {
   "cell_type": "code",
   "execution_count": 35,
   "id": "14241c99",
   "metadata": {},
   "outputs": [],
   "source": [
    "# Perform DFM on target 1\n",
    "dfm_matcher_obj.set_policy(policy_match_tgt1)\n",
    "dfm_matcher_obj.execute_matching()"
   ]
  },
  {
   "cell_type": "code",
   "execution_count": 36,
   "id": "f7b77396",
   "metadata": {},
   "outputs": [],
   "source": [
    "# Perform DFM on target 2\n",
    "dfm_matcher_obj.set_policy(policy_match_tgt2)\n",
    "dfm_matcher_obj.execute_matching()"
   ]
  },
  {
   "cell_type": "markdown",
   "id": "13353981",
   "metadata": {},
   "source": [
    "## 8. Perform direct residual matching (DRM) for each data source"
   ]
  },
  {
   "cell_type": "code",
   "execution_count": 37,
   "id": "b3d5b866",
   "metadata": {},
   "outputs": [],
   "source": [
    "# Import DRM module\n",
    "from esg_matching.matcher.drm import DbMatcherDrm"
   ]
  },
  {
   "cell_type": "code",
   "execution_count": 38,
   "id": "6063d3f1",
   "metadata": {},
   "outputs": [],
   "source": [
    "# Create a matcher object for DRM\n",
    "drm_matcher_obj = DbMatcherDrm(db_conn)"
   ]
  },
  {
   "cell_type": "code",
   "execution_count": 39,
   "id": "bafb60ca",
   "metadata": {},
   "outputs": [],
   "source": [
    "# Perform DRM on target 1\n",
    "drm_matcher_obj.set_policy(policy_match_tgt1)\n",
    "drm_matcher_obj.execute_matching()"
   ]
  },
  {
   "cell_type": "code",
   "execution_count": 40,
   "id": "8326a958",
   "metadata": {},
   "outputs": [],
   "source": [
    "# Perform DRM on target 2\n",
    "drm_matcher_obj.set_policy(policy_match_tgt2)\n",
    "drm_matcher_obj.execute_matching()"
   ]
  },
  {
   "cell_type": "markdown",
   "id": "f1cbd7d9",
   "metadata": {},
   "source": [
    "## 9. Perform indirect residual matching (IRM) for each data source"
   ]
  },
  {
   "cell_type": "code",
   "execution_count": 41,
   "id": "1587b012",
   "metadata": {},
   "outputs": [],
   "source": [
    "# Import IFM module\n",
    "from esg_matching.matcher.irm import DbMatcherIrm"
   ]
  },
  {
   "cell_type": "code",
   "execution_count": 42,
   "id": "e28438be",
   "metadata": {},
   "outputs": [],
   "source": [
    "# Create a matcher object for IFM\n",
    "ifm_matcher_obj = DbMatcherIrm(db_conn)"
   ]
  },
  {
   "cell_type": "code",
   "execution_count": 43,
   "id": "a9263279",
   "metadata": {},
   "outputs": [],
   "source": [
    "# Perform IFM on target 1\n",
    "ifm_matcher_obj.set_policy(policy_match_tgt1)\n",
    "ifm_matcher_obj.execute_matching()"
   ]
  },
  {
   "cell_type": "code",
   "execution_count": 44,
   "id": "c9803270",
   "metadata": {},
   "outputs": [],
   "source": [
    "# Perform IFM on target 2\n",
    "ifm_matcher_obj.set_policy(policy_match_tgt2)\n",
    "ifm_matcher_obj.execute_matching()"
   ]
  },
  {
   "cell_type": "markdown",
   "id": "330a4ef4",
   "metadata": {},
   "source": [
    "## 10. Retrieving the matching and no-matching tables"
   ]
  },
  {
   "cell_type": "code",
   "execution_count": 45,
   "id": "4e4ad3bc",
   "metadata": {},
   "outputs": [
    {
     "data": {
      "text/html": [
       "<div>\n",
       "<style scoped>\n",
       "    .dataframe tbody tr th:only-of-type {\n",
       "        vertical-align: middle;\n",
       "    }\n",
       "\n",
       "    .dataframe tbody tr th {\n",
       "        vertical-align: top;\n",
       "    }\n",
       "\n",
       "    .dataframe thead th {\n",
       "        text-align: right;\n",
       "    }\n",
       "</style>\n",
       "<table border=\"1\" class=\"dataframe\">\n",
       "  <thead>\n",
       "    <tr style=\"text-align: right;\">\n",
       "      <th></th>\n",
       "      <th>timestamp</th>\n",
       "      <th>matching_id</th>\n",
       "      <th>ref_name</th>\n",
       "      <th>tgt_name</th>\n",
       "      <th>matching_type</th>\n",
       "      <th>matching_scope</th>\n",
       "      <th>matching_rule</th>\n",
       "      <th>ref_id</th>\n",
       "      <th>ref_company</th>\n",
       "      <th>ref_country</th>\n",
       "      <th>tgt_id</th>\n",
       "      <th>tgt_company</th>\n",
       "      <th>tgt_country</th>\n",
       "      <th>isin</th>\n",
       "      <th>lei</th>\n",
       "      <th>sedol</th>\n",
       "    </tr>\n",
       "  </thead>\n",
       "  <tbody>\n",
       "    <tr>\n",
       "      <th>0</th>\n",
       "      <td>2022-11-02 10:41:44</td>\n",
       "      <td>1</td>\n",
       "      <td>ds_ref</td>\n",
       "      <td>ds_tgt1</td>\n",
       "      <td>direct</td>\n",
       "      <td>full</td>\n",
       "      <td>isin</td>\n",
       "      <td>1</td>\n",
       "      <td>CENTRAL PERK</td>\n",
       "      <td>SK</td>\n",
       "      <td>1</td>\n",
       "      <td>CENTRAL PERK AND SONS</td>\n",
       "      <td>DE</td>\n",
       "      <td>SK1120005824</td>\n",
       "      <td>097900BHK10000084115</td>\n",
       "      <td>None</td>\n",
       "    </tr>\n",
       "    <tr>\n",
       "      <th>1</th>\n",
       "      <td>2022-11-02 10:41:44</td>\n",
       "      <td>2</td>\n",
       "      <td>ds_ref</td>\n",
       "      <td>ds_tgt1</td>\n",
       "      <td>direct</td>\n",
       "      <td>full</td>\n",
       "      <td>isin</td>\n",
       "      <td>4</td>\n",
       "      <td>STERLING COOPER</td>\n",
       "      <td>GBR</td>\n",
       "      <td>5</td>\n",
       "      <td>Krusty Krab</td>\n",
       "      <td>GB</td>\n",
       "      <td>GB00B1YW4409</td>\n",
       "      <td>None</td>\n",
       "      <td>None</td>\n",
       "    </tr>\n",
       "    <tr>\n",
       "      <th>2</th>\n",
       "      <td>2022-11-02 10:41:44</td>\n",
       "      <td>3</td>\n",
       "      <td>ds_ref</td>\n",
       "      <td>ds_tgt1</td>\n",
       "      <td>direct</td>\n",
       "      <td>full</td>\n",
       "      <td>isin</td>\n",
       "      <td>7</td>\n",
       "      <td>Stark Industries</td>\n",
       "      <td>us</td>\n",
       "      <td>7</td>\n",
       "      <td>Starks Industries and Association</td>\n",
       "      <td>usa</td>\n",
       "      <td>US0231351067</td>\n",
       "      <td>ZXTILKJKG63JELOEG630</td>\n",
       "      <td>None</td>\n",
       "    </tr>\n",
       "    <tr>\n",
       "      <th>3</th>\n",
       "      <td>2022-11-02 10:41:44</td>\n",
       "      <td>4</td>\n",
       "      <td>ds_ref</td>\n",
       "      <td>ds_tgt1</td>\n",
       "      <td>direct</td>\n",
       "      <td>full</td>\n",
       "      <td>isin</td>\n",
       "      <td>8</td>\n",
       "      <td>SPECTRE</td>\n",
       "      <td>USA</td>\n",
       "      <td>8</td>\n",
       "      <td>SPECTRE UNIVERSAL LIMITED</td>\n",
       "      <td>USA</td>\n",
       "      <td>US0126531013</td>\n",
       "      <td>HDBLS2Q6GV1LSKQPBS54</td>\n",
       "      <td>None</td>\n",
       "    </tr>\n",
       "    <tr>\n",
       "      <th>4</th>\n",
       "      <td>2022-11-02 10:41:44</td>\n",
       "      <td>5</td>\n",
       "      <td>ds_ref</td>\n",
       "      <td>ds_tgt1</td>\n",
       "      <td>direct</td>\n",
       "      <td>full</td>\n",
       "      <td>isin</td>\n",
       "      <td>9</td>\n",
       "      <td>SPECTRE 33 SUBSIDIARY</td>\n",
       "      <td>USA</td>\n",
       "      <td>8</td>\n",
       "      <td>SPECTRE UNIVERSAL LIMITED</td>\n",
       "      <td>USA</td>\n",
       "      <td>US0126531013</td>\n",
       "      <td>HDBLS2Q6GV1LSKQPBS54</td>\n",
       "      <td>None</td>\n",
       "    </tr>\n",
       "    <tr>\n",
       "      <th>5</th>\n",
       "      <td>2022-11-02 10:41:45</td>\n",
       "      <td>6</td>\n",
       "      <td>ds_ref</td>\n",
       "      <td>ds_tgt2</td>\n",
       "      <td>direct</td>\n",
       "      <td>full</td>\n",
       "      <td>isin</td>\n",
       "      <td>5</td>\n",
       "      <td>Bluth company</td>\n",
       "      <td>CHE</td>\n",
       "      <td>3</td>\n",
       "      <td>Bluth company</td>\n",
       "      <td>CHE</td>\n",
       "      <td>CH0012221716</td>\n",
       "      <td>None</td>\n",
       "      <td>None</td>\n",
       "    </tr>\n",
       "    <tr>\n",
       "      <th>6</th>\n",
       "      <td>2022-11-02 10:41:45</td>\n",
       "      <td>7</td>\n",
       "      <td>ds_ref</td>\n",
       "      <td>ds_tgt2</td>\n",
       "      <td>direct</td>\n",
       "      <td>full</td>\n",
       "      <td>isin</td>\n",
       "      <td>6</td>\n",
       "      <td>InGen</td>\n",
       "      <td>usa</td>\n",
       "      <td>4</td>\n",
       "      <td>InGen</td>\n",
       "      <td>usa</td>\n",
       "      <td>US0200021014</td>\n",
       "      <td>None</td>\n",
       "      <td>2019952</td>\n",
       "    </tr>\n",
       "    <tr>\n",
       "      <th>7</th>\n",
       "      <td>2022-11-02 10:41:45</td>\n",
       "      <td>8</td>\n",
       "      <td>ds_ref</td>\n",
       "      <td>ds_tgt2</td>\n",
       "      <td>direct</td>\n",
       "      <td>full</td>\n",
       "      <td>isin</td>\n",
       "      <td>8</td>\n",
       "      <td>SPECTRE</td>\n",
       "      <td>USA</td>\n",
       "      <td>5</td>\n",
       "      <td>SPECTRE</td>\n",
       "      <td>USA</td>\n",
       "      <td>US0126531013</td>\n",
       "      <td>None</td>\n",
       "      <td>2046853</td>\n",
       "    </tr>\n",
       "    <tr>\n",
       "      <th>8</th>\n",
       "      <td>2022-11-02 10:41:45</td>\n",
       "      <td>9</td>\n",
       "      <td>ds_ref</td>\n",
       "      <td>ds_tgt2</td>\n",
       "      <td>direct</td>\n",
       "      <td>full</td>\n",
       "      <td>isin</td>\n",
       "      <td>9</td>\n",
       "      <td>SPECTRE 33 SUBSIDIARY</td>\n",
       "      <td>USA</td>\n",
       "      <td>5</td>\n",
       "      <td>SPECTRE</td>\n",
       "      <td>USA</td>\n",
       "      <td>US0126531013</td>\n",
       "      <td>None</td>\n",
       "      <td>2046853</td>\n",
       "    </tr>\n",
       "    <tr>\n",
       "      <th>9</th>\n",
       "      <td>2022-11-02 10:41:45</td>\n",
       "      <td>10</td>\n",
       "      <td>ds_ref</td>\n",
       "      <td>ds_tgt2</td>\n",
       "      <td>direct</td>\n",
       "      <td>full</td>\n",
       "      <td>isin</td>\n",
       "      <td>4</td>\n",
       "      <td>STERLING COOPER</td>\n",
       "      <td>GBR</td>\n",
       "      <td>6</td>\n",
       "      <td>STERLING COOPER</td>\n",
       "      <td>GBR</td>\n",
       "      <td>GB00B1YW4409</td>\n",
       "      <td>None</td>\n",
       "      <td>B1YW440</td>\n",
       "    </tr>\n",
       "    <tr>\n",
       "      <th>10</th>\n",
       "      <td>2022-11-02 10:41:45</td>\n",
       "      <td>11</td>\n",
       "      <td>ds_ref</td>\n",
       "      <td>ds_tgt2</td>\n",
       "      <td>direct</td>\n",
       "      <td>full</td>\n",
       "      <td>isin</td>\n",
       "      <td>1</td>\n",
       "      <td>CENTRAL PERK</td>\n",
       "      <td>SK</td>\n",
       "      <td>7</td>\n",
       "      <td>CENTRAL PERK</td>\n",
       "      <td>SK</td>\n",
       "      <td>SK1120005824</td>\n",
       "      <td>None</td>\n",
       "      <td>B1YW440</td>\n",
       "    </tr>\n",
       "    <tr>\n",
       "      <th>11</th>\n",
       "      <td>2022-11-02 10:41:45</td>\n",
       "      <td>12</td>\n",
       "      <td>ds_ref</td>\n",
       "      <td>ds_tgt2</td>\n",
       "      <td>direct</td>\n",
       "      <td>full</td>\n",
       "      <td>isin</td>\n",
       "      <td>4</td>\n",
       "      <td>STERLING COOPER</td>\n",
       "      <td>GBR</td>\n",
       "      <td>9</td>\n",
       "      <td>Krusty Kr~ab</td>\n",
       "      <td>GBR</td>\n",
       "      <td>GB00B1YW4409</td>\n",
       "      <td>None</td>\n",
       "      <td>B1YW440</td>\n",
       "    </tr>\n",
       "    <tr>\n",
       "      <th>12</th>\n",
       "      <td>2022-11-02 10:41:48</td>\n",
       "      <td>13</td>\n",
       "      <td>ds_ref</td>\n",
       "      <td>ds_tgt1</td>\n",
       "      <td>direct</td>\n",
       "      <td>residual</td>\n",
       "      <td>name+country</td>\n",
       "      <td>3</td>\n",
       "      <td>STARCOURT MALL</td>\n",
       "      <td>AUSTRIA</td>\n",
       "      <td>4</td>\n",
       "      <td>STARCOURT MALL</td>\n",
       "      <td>AUSTRIA</td>\n",
       "      <td>None</td>\n",
       "      <td>529900MVZ2YHFZV3K546</td>\n",
       "      <td>None</td>\n",
       "    </tr>\n",
       "    <tr>\n",
       "      <th>13</th>\n",
       "      <td>2022-11-02 10:41:48</td>\n",
       "      <td>14</td>\n",
       "      <td>ds_ref</td>\n",
       "      <td>ds_tgt2</td>\n",
       "      <td>direct</td>\n",
       "      <td>residual</td>\n",
       "      <td>name+country</td>\n",
       "      <td>3</td>\n",
       "      <td>STARCOURT MALL</td>\n",
       "      <td>AUSTRIA</td>\n",
       "      <td>2</td>\n",
       "      <td>STARCOURT MALL</td>\n",
       "      <td>AUSTRIA</td>\n",
       "      <td>None</td>\n",
       "      <td>None</td>\n",
       "      <td>None</td>\n",
       "    </tr>\n",
       "    <tr>\n",
       "      <th>14</th>\n",
       "      <td>2022-11-02 10:41:51</td>\n",
       "      <td>15</td>\n",
       "      <td>ds_tgt1</td>\n",
       "      <td>ds_tgt2</td>\n",
       "      <td>indirect</td>\n",
       "      <td>full</td>\n",
       "      <td>lei</td>\n",
       "      <td>1</td>\n",
       "      <td>CENTRAL PERK AND SONS</td>\n",
       "      <td>DE</td>\n",
       "      <td>1</td>\n",
       "      <td>HONEYDUKES</td>\n",
       "      <td>UNITED STATES</td>\n",
       "      <td>None</td>\n",
       "      <td>097900BHK10000084115</td>\n",
       "      <td>7108899</td>\n",
       "    </tr>\n",
       "  </tbody>\n",
       "</table>\n",
       "</div>"
      ],
      "text/plain": [
       "             timestamp  matching_id ref_name tgt_name matching_type  \\\n",
       "0  2022-11-02 10:41:44            1   ds_ref  ds_tgt1        direct   \n",
       "1  2022-11-02 10:41:44            2   ds_ref  ds_tgt1        direct   \n",
       "2  2022-11-02 10:41:44            3   ds_ref  ds_tgt1        direct   \n",
       "3  2022-11-02 10:41:44            4   ds_ref  ds_tgt1        direct   \n",
       "4  2022-11-02 10:41:44            5   ds_ref  ds_tgt1        direct   \n",
       "5  2022-11-02 10:41:45            6   ds_ref  ds_tgt2        direct   \n",
       "6  2022-11-02 10:41:45            7   ds_ref  ds_tgt2        direct   \n",
       "7  2022-11-02 10:41:45            8   ds_ref  ds_tgt2        direct   \n",
       "8  2022-11-02 10:41:45            9   ds_ref  ds_tgt2        direct   \n",
       "9  2022-11-02 10:41:45           10   ds_ref  ds_tgt2        direct   \n",
       "10 2022-11-02 10:41:45           11   ds_ref  ds_tgt2        direct   \n",
       "11 2022-11-02 10:41:45           12   ds_ref  ds_tgt2        direct   \n",
       "12 2022-11-02 10:41:48           13   ds_ref  ds_tgt1        direct   \n",
       "13 2022-11-02 10:41:48           14   ds_ref  ds_tgt2        direct   \n",
       "14 2022-11-02 10:41:51           15  ds_tgt1  ds_tgt2      indirect   \n",
       "\n",
       "   matching_scope matching_rule  ref_id            ref_company ref_country  \\\n",
       "0            full          isin       1           CENTRAL PERK          SK   \n",
       "1            full          isin       4        STERLING COOPER         GBR   \n",
       "2            full          isin       7       Stark Industries          us   \n",
       "3            full          isin       8                SPECTRE         USA   \n",
       "4            full          isin       9  SPECTRE 33 SUBSIDIARY         USA   \n",
       "5            full          isin       5          Bluth company         CHE   \n",
       "6            full          isin       6                  InGen         usa   \n",
       "7            full          isin       8                SPECTRE         USA   \n",
       "8            full          isin       9  SPECTRE 33 SUBSIDIARY         USA   \n",
       "9            full          isin       4        STERLING COOPER         GBR   \n",
       "10           full          isin       1           CENTRAL PERK          SK   \n",
       "11           full          isin       4        STERLING COOPER         GBR   \n",
       "12       residual  name+country       3         STARCOURT MALL     AUSTRIA   \n",
       "13       residual  name+country       3         STARCOURT MALL     AUSTRIA   \n",
       "14           full           lei       1  CENTRAL PERK AND SONS          DE   \n",
       "\n",
       "    tgt_id                        tgt_company    tgt_country          isin  \\\n",
       "0        1              CENTRAL PERK AND SONS             DE  SK1120005824   \n",
       "1        5                        Krusty Krab             GB  GB00B1YW4409   \n",
       "2        7  Starks Industries and Association            usa  US0231351067   \n",
       "3        8          SPECTRE UNIVERSAL LIMITED            USA  US0126531013   \n",
       "4        8          SPECTRE UNIVERSAL LIMITED            USA  US0126531013   \n",
       "5        3                      Bluth company            CHE  CH0012221716   \n",
       "6        4                              InGen            usa  US0200021014   \n",
       "7        5                            SPECTRE            USA  US0126531013   \n",
       "8        5                            SPECTRE            USA  US0126531013   \n",
       "9        6                    STERLING COOPER            GBR  GB00B1YW4409   \n",
       "10       7                       CENTRAL PERK             SK  SK1120005824   \n",
       "11       9                       Krusty Kr~ab            GBR  GB00B1YW4409   \n",
       "12       4                     STARCOURT MALL        AUSTRIA          None   \n",
       "13       2                     STARCOURT MALL        AUSTRIA          None   \n",
       "14       1                         HONEYDUKES  UNITED STATES          None   \n",
       "\n",
       "                     lei    sedol  \n",
       "0   097900BHK10000084115     None  \n",
       "1                   None     None  \n",
       "2   ZXTILKJKG63JELOEG630     None  \n",
       "3   HDBLS2Q6GV1LSKQPBS54     None  \n",
       "4   HDBLS2Q6GV1LSKQPBS54     None  \n",
       "5                   None     None  \n",
       "6                   None  2019952  \n",
       "7                   None  2046853  \n",
       "8                   None  2046853  \n",
       "9                   None  B1YW440  \n",
       "10                  None  B1YW440  \n",
       "11                  None  B1YW440  \n",
       "12  529900MVZ2YHFZV3K546     None  \n",
       "13                  None     None  \n",
       "14  097900BHK10000084115  7108899  "
      ]
     },
     "execution_count": 45,
     "metadata": {},
     "output_type": "execute_result"
    }
   ],
   "source": [
    "# Query the matching table\n",
    "df_matching = db_matching.get_data_as_df()\n",
    "df_matching"
   ]
  },
  {
   "cell_type": "code",
   "execution_count": 46,
   "id": "7759a2f5",
   "metadata": {},
   "outputs": [
    {
     "data": {
      "text/html": [
       "<div>\n",
       "<style scoped>\n",
       "    .dataframe tbody tr th:only-of-type {\n",
       "        vertical-align: middle;\n",
       "    }\n",
       "\n",
       "    .dataframe tbody tr th {\n",
       "        vertical-align: top;\n",
       "    }\n",
       "\n",
       "    .dataframe thead th {\n",
       "        text-align: right;\n",
       "    }\n",
       "</style>\n",
       "<table border=\"1\" class=\"dataframe\">\n",
       "  <thead>\n",
       "    <tr style=\"text-align: right;\">\n",
       "      <th></th>\n",
       "      <th>timestamp</th>\n",
       "      <th>matching_id</th>\n",
       "      <th>tgt_name</th>\n",
       "      <th>tgt_id</th>\n",
       "      <th>tgt_company</th>\n",
       "      <th>tgt_country</th>\n",
       "      <th>isin</th>\n",
       "      <th>lei</th>\n",
       "      <th>sedol</th>\n",
       "    </tr>\n",
       "  </thead>\n",
       "  <tbody>\n",
       "    <tr>\n",
       "      <th>0</th>\n",
       "      <td>2022-11-02 10:41:44</td>\n",
       "      <td>1</td>\n",
       "      <td>ds_tgt1</td>\n",
       "      <td>2</td>\n",
       "      <td>DUNDER MIFFLINS [12345]</td>\n",
       "      <td>de</td>\n",
       "      <td>DE0005545503</td>\n",
       "      <td>5299003VKVDCUPSS5X23</td>\n",
       "      <td>None</td>\n",
       "    </tr>\n",
       "    <tr>\n",
       "      <th>1</th>\n",
       "      <td>2022-11-02 10:41:44</td>\n",
       "      <td>2</td>\n",
       "      <td>ds_tgt1</td>\n",
       "      <td>3</td>\n",
       "      <td>HONEYDUKES (adm@honeydukes.com)</td>\n",
       "      <td>UNITED STATES OF AMERICA</td>\n",
       "      <td>None</td>\n",
       "      <td>254900B1P3S786KDAW57</td>\n",
       "      <td>None</td>\n",
       "    </tr>\n",
       "    <tr>\n",
       "      <th>2</th>\n",
       "      <td>2022-11-02 10:41:44</td>\n",
       "      <td>4</td>\n",
       "      <td>ds_tgt1</td>\n",
       "      <td>6</td>\n",
       "      <td>RR DINER</td>\n",
       "      <td>CHINA</td>\n",
       "      <td>None</td>\n",
       "      <td>3003007MR0P683GYR674</td>\n",
       "      <td>None</td>\n",
       "    </tr>\n",
       "    <tr>\n",
       "      <th>3</th>\n",
       "      <td>2022-11-02 10:41:45</td>\n",
       "      <td>7</td>\n",
       "      <td>ds_tgt2</td>\n",
       "      <td>8</td>\n",
       "      <td>DUNDER MIFFLINS</td>\n",
       "      <td>Germany</td>\n",
       "      <td>DE0005545503</td>\n",
       "      <td>None</td>\n",
       "      <td>5299003VKVDCUPSS5X23</td>\n",
       "    </tr>\n",
       "  </tbody>\n",
       "</table>\n",
       "</div>"
      ],
      "text/plain": [
       "            timestamp  matching_id tgt_name  tgt_id  \\\n",
       "0 2022-11-02 10:41:44            1  ds_tgt1       2   \n",
       "1 2022-11-02 10:41:44            2  ds_tgt1       3   \n",
       "2 2022-11-02 10:41:44            4  ds_tgt1       6   \n",
       "3 2022-11-02 10:41:45            7  ds_tgt2       8   \n",
       "\n",
       "                       tgt_company               tgt_country          isin  \\\n",
       "0          DUNDER MIFFLINS [12345]                        de  DE0005545503   \n",
       "1  HONEYDUKES (adm@honeydukes.com)  UNITED STATES OF AMERICA          None   \n",
       "2                         RR DINER                     CHINA          None   \n",
       "3                  DUNDER MIFFLINS                   Germany  DE0005545503   \n",
       "\n",
       "                    lei                 sedol  \n",
       "0  5299003VKVDCUPSS5X23                  None  \n",
       "1  254900B1P3S786KDAW57                  None  \n",
       "2  3003007MR0P683GYR674                  None  \n",
       "3                  None  5299003VKVDCUPSS5X23  "
      ]
     },
     "execution_count": 46,
     "metadata": {},
     "output_type": "execute_result"
    }
   ],
   "source": [
    "# Query the no-matching table\n",
    "df_no_matching = db_no_matching.get_data_as_df()\n",
    "df_no_matching"
   ]
  },
  {
   "cell_type": "markdown",
   "id": "f79b6cfd",
   "metadata": {},
   "source": [
    "## 11. Close database connection"
   ]
  },
  {
   "cell_type": "code",
   "execution_count": 47,
   "id": "54de4508",
   "metadata": {},
   "outputs": [],
   "source": [
    "db_conn.disconnect()"
   ]
  },
  {
   "cell_type": "code",
   "execution_count": 48,
   "id": "b208b749",
   "metadata": {},
   "outputs": [
    {
     "data": {
      "text/plain": [
       "False"
      ]
     },
     "execution_count": 48,
     "metadata": {},
     "output_type": "execute_result"
    }
   ],
   "source": [
    "db_conn.is_connected()"
   ]
  },
  {
   "cell_type": "code",
   "execution_count": null,
   "id": "88b80e63",
   "metadata": {},
   "outputs": [],
   "source": []
  }
 ],
 "metadata": {
  "kernelspec": {
   "display_name": "Python 3 (ipykernel)",
   "language": "python",
   "name": "python3"
  },
  "language_info": {
   "codemirror_mode": {
    "name": "ipython",
    "version": 3
   },
   "file_extension": ".py",
   "mimetype": "text/x-python",
   "name": "python",
   "nbconvert_exporter": "python",
   "pygments_lexer": "ipython3",
   "version": "3.8.10"
  }
 },
 "nbformat": 4,
 "nbformat_minor": 5
}
