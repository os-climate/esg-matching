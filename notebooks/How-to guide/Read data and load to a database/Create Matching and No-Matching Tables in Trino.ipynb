{
 "cells": [
  {
   "cell_type": "markdown",
   "id": "e170c7ce",
   "metadata": {},
   "source": [
    "# How to...create Matching and No-Matching Tables in Trino"
   ]
  },
  {
   "cell_type": "code",
   "execution_count": 1,
   "id": "3ecdce6d",
   "metadata": {},
   "outputs": [],
   "source": [
    "# Sets up the location of the api relative to this notebook \n",
    "import sys\n",
    "sys.path.append('../../../')"
   ]
  },
  {
   "cell_type": "code",
   "execution_count": 2,
   "id": "689dc67d",
   "metadata": {},
   "outputs": [],
   "source": [
    "# Import the module for connection to a sqllite database\n",
    "from esg_matching.engine.connectors.trino import TrinoConnector"
   ]
  },
  {
   "cell_type": "code",
   "execution_count": 3,
   "id": "0684c1bc",
   "metadata": {},
   "outputs": [],
   "source": [
    "# Import the modules for file management\n",
    "from esg_matching.file_reader.file import File\n",
    "from esg_matching.file_reader.csv_reader import FileReaderCsv"
   ]
  },
  {
   "cell_type": "code",
   "execution_count": 4,
   "id": "691ed0b7",
   "metadata": {},
   "outputs": [],
   "source": [
    "# Import the modules for the etl processing: reading, transformation and loading data to a database\n",
    "from esg_matching.processing.etl import EtlProcessing"
   ]
  },
  {
   "cell_type": "markdown",
   "id": "cec1178b",
   "metadata": {},
   "source": [
    "## 1. Database setup"
   ]
  },
  {
   "cell_type": "code",
   "execution_count": 5,
   "id": "3d83cd84",
   "metadata": {},
   "outputs": [],
   "source": [
    "# Import the module for connection to a sqllite database\n",
    "from esg_matching.engine.connectors.trino import TrinoConnector"
   ]
  },
  {
   "cell_type": "code",
   "execution_count": 6,
   "id": "3d3ad253",
   "metadata": {},
   "outputs": [],
   "source": [
    "import os\n",
    "user_trino = os.environ['TRINO_USER']\n",
    "pwd_trino = os.environ['TRINO_PASSWD']\n",
    "host_trino = os.environ['TRINO_HOST']\n",
    "port_trino = int(os.environ['TRINO_PORT'])"
   ]
  },
  {
   "cell_type": "code",
   "execution_count": 7,
   "id": "342a1823",
   "metadata": {},
   "outputs": [],
   "source": [
    "# The database connector is represented by the class SqlLiteConnector \n",
    "db_conn = TrinoConnector()"
   ]
  },
  {
   "cell_type": "code",
   "execution_count": 8,
   "id": "1f032161",
   "metadata": {},
   "outputs": [
    {
     "name": "stdout",
     "output_type": "stream",
     "text": [
      "2022-07-21 15:39:59,701 INFO sqlalchemy.engine.Engine SELECT version()\n",
      "2022-07-21 15:39:59,705 INFO sqlalchemy.engine.Engine [dialect trino+rest does not support caching 0.00425s] ()\n"
     ]
    }
   ],
   "source": [
    "# The connect() method of the SqlLiteConnector is used to stablish a connection with the database if it exists, \n",
    "# or to create a new one. The property path_db defines the location and name of the database.\n",
    "# The  property show_sql_statement indicates if the SQL statements are echoed (or printed) in the default output channel.\n",
    "db_conn.username = user_trino\n",
    "db_conn.user_password = pwd_trino\n",
    "db_conn.host_url = host_trino\n",
    "db_conn.port_number = port_trino\n",
    "db_conn.catalog = 'osc_datacommons_iceberg_dev'\n",
    "db_conn.show_sql_statement = True\n",
    "db_conn.connect()"
   ]
  },
  {
   "cell_type": "code",
   "execution_count": 9,
   "id": "30e529b6",
   "metadata": {},
   "outputs": [
    {
     "data": {
      "text/plain": [
       "True"
      ]
     },
     "execution_count": 9,
     "metadata": {},
     "output_type": "execute_result"
    }
   ],
   "source": [
    "# Check if the connection was stablished\n",
    "db_conn.is_connected()"
   ]
  },
  {
   "cell_type": "markdown",
   "id": "12d9f068",
   "metadata": {},
   "source": [
    "## 2. Create ETL object"
   ]
  },
  {
   "cell_type": "code",
   "execution_count": 10,
   "id": "e21e0d15",
   "metadata": {},
   "outputs": [],
   "source": [
    "# Create an ETL process object\n",
    "etl_proc_obj = EtlProcessing(db_conn)"
   ]
  },
  {
   "cell_type": "markdown",
   "id": "75360852",
   "metadata": {},
   "source": [
    "## 3. Create Matching from file settings"
   ]
  },
  {
   "cell_type": "code",
   "execution_count": 11,
   "id": "45b2b677",
   "metadata": {},
   "outputs": [
    {
     "data": {
      "text/plain": [
       "'../../../tests/data/howto/trino/test_matching_trino.json'"
      ]
     },
     "execution_count": 11,
     "metadata": {},
     "output_type": "execute_result"
    }
   ],
   "source": [
    "# Settings for Macthing Table\n",
    "match_settings = '../../../tests/data/howto/trino/test_matching_trino.json'\n",
    "match_settings"
   ]
  },
  {
   "cell_type": "code",
   "execution_count": 12,
   "id": "48159b77",
   "metadata": {},
   "outputs": [],
   "source": [
    "# Create a file object\n",
    "file_match = File(match_settings)"
   ]
  },
  {
   "cell_type": "code",
   "execution_count": 13,
   "id": "42daa832",
   "metadata": {},
   "outputs": [
    {
     "name": "stdout",
     "output_type": "stream",
     "text": [
      "2022-07-21 15:40:05,850 INFO sqlalchemy.engine.Engine SELECT \"table_name\"\n",
      "FROM \"information_schema\".\"tables\"\n",
      "WHERE \"table_schema\" = ?\n",
      "2022-07-21 15:40:05,852 INFO sqlalchemy.engine.Engine [dialect trino+rest does not support caching 0.00178s] ('esg_matching',)\n",
      "2022-07-21 15:40:07,923 INFO sqlalchemy.engine.Engine BEGIN (implicit)\n",
      "2022-07-21 15:40:07,925 INFO sqlalchemy.engine.Engine \n",
      "CREATE TABLE esg_matching.esg_matching (\n",
      "\ttimestamp TIMESTAMP(6), \n",
      "\tmatching_id BIGINT, \n",
      "\tref_name VARCHAR, \n",
      "\ttgt_name VARCHAR, \n",
      "\tmatching_type VARCHAR, \n",
      "\tmatching_scope VARCHAR, \n",
      "\tmatching_rule VARCHAR, \n",
      "\tref_id VARCHAR, \n",
      "\tref_company VARCHAR, \n",
      "\tref_country VARCHAR, \n",
      "\ttgt_id VARCHAR, \n",
      "\ttgt_company VARCHAR, \n",
      "\ttgt_country VARCHAR, \n",
      "\tisin VARCHAR, \n",
      "\tlei VARCHAR, \n",
      "\tsedol VARCHAR\n",
      ")\n",
      "\n",
      "\n",
      "2022-07-21 15:40:07,926 INFO sqlalchemy.engine.Engine [no key 0.00142s] ()\n",
      "2022-07-21 15:40:08,978 INFO sqlalchemy.engine.Engine COMMIT\n"
     ]
    }
   ],
   "source": [
    "# Call the create_data_source_from_settings() method by passing the File\n",
    "db_matching = etl_proc_obj.create_data_source(file_match)"
   ]
  },
  {
   "cell_type": "code",
   "execution_count": 14,
   "id": "e98439ef",
   "metadata": {},
   "outputs": [
    {
     "data": {
      "text/plain": [
       "['timestamp',\n",
       " 'matching_id',\n",
       " 'ref_name',\n",
       " 'tgt_name',\n",
       " 'matching_type',\n",
       " 'matching_scope',\n",
       " 'matching_rule',\n",
       " 'ref_id',\n",
       " 'ref_company',\n",
       " 'ref_country',\n",
       " 'tgt_id',\n",
       " 'tgt_company',\n",
       " 'tgt_country',\n",
       " 'isin',\n",
       " 'lei',\n",
       " 'sedol']"
      ]
     },
     "execution_count": 14,
     "metadata": {},
     "output_type": "execute_result"
    }
   ],
   "source": [
    "# Retrieve the attribute names of the database table\n",
    "db_matching.get_attribute_names()"
   ]
  },
  {
   "cell_type": "markdown",
   "id": "73d8b46c",
   "metadata": {},
   "source": [
    "## 4. Create No-Matching from file settings"
   ]
  },
  {
   "cell_type": "code",
   "execution_count": 15,
   "id": "547f2a3d",
   "metadata": {},
   "outputs": [
    {
     "data": {
      "text/plain": [
       "'../../../tests/data/howto/trino/test_no_matching_trino.json'"
      ]
     },
     "execution_count": 15,
     "metadata": {},
     "output_type": "execute_result"
    }
   ],
   "source": [
    "# Settings for No-Macthing Table\n",
    "no_match_settings = '../../../tests/data/howto/trino/test_no_matching_trino.json'\n",
    "no_match_settings"
   ]
  },
  {
   "cell_type": "code",
   "execution_count": 16,
   "id": "acce4166",
   "metadata": {},
   "outputs": [],
   "source": [
    "# Create a file object\n",
    "file_no_match = File(no_match_settings)"
   ]
  },
  {
   "cell_type": "code",
   "execution_count": 17,
   "id": "65dca9ff",
   "metadata": {},
   "outputs": [
    {
     "name": "stdout",
     "output_type": "stream",
     "text": [
      "2022-07-21 15:40:21,943 INFO sqlalchemy.engine.Engine SELECT \"table_name\"\n",
      "FROM \"information_schema\".\"tables\"\n",
      "WHERE \"table_schema\" = ?\n",
      "2022-07-21 15:40:21,945 INFO sqlalchemy.engine.Engine [dialect trino+rest does not support caching 0.00157s] ('esg_matching',)\n",
      "2022-07-21 15:40:24,131 INFO sqlalchemy.engine.Engine SELECT \"table_name\"\n",
      "FROM \"information_schema\".\"tables\"\n",
      "WHERE \"table_schema\" = ?\n",
      "2022-07-21 15:40:24,132 INFO sqlalchemy.engine.Engine [dialect trino+rest does not support caching 0.00115s] ('esg_matching',)\n",
      "2022-07-21 15:40:26,531 INFO sqlalchemy.engine.Engine SELECT \"table_name\"\n",
      "FROM \"information_schema\".\"tables\"\n",
      "WHERE \"table_schema\" = ?\n",
      "  AND \"table_name\" = ?\n",
      "2022-07-21 15:40:26,532 INFO sqlalchemy.engine.Engine [dialect trino+rest does not support caching 0.00091s] ('esg_matching', 'esg_match_tgt2')\n",
      "2022-07-21 15:40:27,783 INFO sqlalchemy.engine.Engine SELECT\n",
      "    \"column_name\",\n",
      "    \"data_type\",\n",
      "    \"column_default\",\n",
      "    UPPER(\"is_nullable\") AS \"is_nullable\"\n",
      "FROM \"information_schema\".\"columns\"\n",
      "WHERE \"table_schema\" = ?\n",
      "  AND \"table_name\" = ?\n",
      "ORDER BY \"ordinal_position\" ASC\n",
      "2022-07-21 15:40:27,785 INFO sqlalchemy.engine.Engine [dialect trino+rest does not support caching 0.00123s] ('esg_matching', 'esg_match_tgt2')\n",
      "2022-07-21 15:40:29,448 INFO sqlalchemy.engine.Engine SELECT \"table_name\"\n",
      "FROM \"information_schema\".\"tables\"\n",
      "WHERE \"table_schema\" = ?\n",
      "  AND \"table_name\" = ?\n",
      "2022-07-21 15:40:29,449 INFO sqlalchemy.engine.Engine [dialect trino+rest does not support caching 0.00086s] ('esg_matching', 'esg_match_tgt2')\n",
      "2022-07-21 15:40:30,762 INFO sqlalchemy.engine.Engine SELECT\n",
      "    \"column_name\",\n",
      "    \"data_type\",\n",
      "    \"column_default\",\n",
      "    UPPER(\"is_nullable\") AS \"is_nullable\"\n",
      "FROM \"information_schema\".\"columns\"\n",
      "WHERE \"table_schema\" = ?\n",
      "  AND \"table_name\" = ?\n",
      "ORDER BY \"ordinal_position\" ASC\n",
      "2022-07-21 15:40:30,763 INFO sqlalchemy.engine.Engine [dialect trino+rest does not support caching 0.00088s] ('esg_matching', 'esg_match_tgt2$partitions')\n",
      "2022-07-21 15:40:32,327 INFO sqlalchemy.engine.Engine SELECT \"comment\"\n",
      "FROM \"system\".\"metadata\".\"table_comments\"\n",
      "WHERE \"schema_name\" = ?\n",
      "AND \"table_name\" = ?\n",
      "2022-07-21 15:40:32,327 INFO sqlalchemy.engine.Engine [dialect trino+rest does not support caching 0.00100s] ('esg_matching', 'esg_match_tgt2')\n"
     ]
    },
    {
     "name": "stderr",
     "output_type": "stream",
     "text": [
      "C:\\Users\\Patrycia\\OneDrive\\Projects\\GitHub\\os_climate\\esg-matching\\notebooks\\How-to guide\\Read data and load to a database\\../../..\\esg_matching\\engine\\connectors\\base_connector.py:354: SAWarning: index key 'record_count' was not located in columns for table 'esg_match_tgt2'\n",
      "  metadata.reflect(self._engine)\n",
      "C:\\Users\\Patrycia\\OneDrive\\Projects\\GitHub\\os_climate\\esg-matching\\notebooks\\How-to guide\\Read data and load to a database\\../../..\\esg_matching\\engine\\connectors\\base_connector.py:354: SAWarning: index key 'file_count' was not located in columns for table 'esg_match_tgt2'\n",
      "  metadata.reflect(self._engine)\n",
      "C:\\Users\\Patrycia\\OneDrive\\Projects\\GitHub\\os_climate\\esg-matching\\notebooks\\How-to guide\\Read data and load to a database\\../../..\\esg_matching\\engine\\connectors\\base_connector.py:354: SAWarning: index key 'total_size' was not located in columns for table 'esg_match_tgt2'\n",
      "  metadata.reflect(self._engine)\n",
      "C:\\Users\\Patrycia\\OneDrive\\Projects\\GitHub\\os_climate\\esg-matching\\notebooks\\How-to guide\\Read data and load to a database\\../../..\\esg_matching\\engine\\connectors\\base_connector.py:354: SAWarning: index key 'data' was not located in columns for table 'esg_match_tgt2'\n",
      "  metadata.reflect(self._engine)\n"
     ]
    },
    {
     "name": "stdout",
     "output_type": "stream",
     "text": [
      "2022-07-21 15:40:33,587 INFO sqlalchemy.engine.Engine ROLLBACK\n",
      "2022-07-21 15:40:33,588 INFO sqlalchemy.engine.Engine SELECT \"table_name\"\n",
      "FROM \"information_schema\".\"tables\"\n",
      "WHERE \"table_schema\" = ?\n",
      "  AND \"table_name\" = ?\n",
      "2022-07-21 15:40:33,590 INFO sqlalchemy.engine.Engine [dialect trino+rest does not support caching 0.00136s] ('esg_matching', 'esg_match_ref')\n",
      "2022-07-21 15:40:34,988 INFO sqlalchemy.engine.Engine SELECT\n",
      "    \"column_name\",\n",
      "    \"data_type\",\n",
      "    \"column_default\",\n",
      "    UPPER(\"is_nullable\") AS \"is_nullable\"\n",
      "FROM \"information_schema\".\"columns\"\n",
      "WHERE \"table_schema\" = ?\n",
      "  AND \"table_name\" = ?\n",
      "ORDER BY \"ordinal_position\" ASC\n",
      "2022-07-21 15:40:34,989 INFO sqlalchemy.engine.Engine [dialect trino+rest does not support caching 0.00084s] ('esg_matching', 'esg_match_ref')\n",
      "2022-07-21 15:40:36,444 INFO sqlalchemy.engine.Engine SELECT \"table_name\"\n",
      "FROM \"information_schema\".\"tables\"\n",
      "WHERE \"table_schema\" = ?\n",
      "  AND \"table_name\" = ?\n",
      "2022-07-21 15:40:36,445 INFO sqlalchemy.engine.Engine [dialect trino+rest does not support caching 0.00088s] ('esg_matching', 'esg_match_ref')\n",
      "2022-07-21 15:40:37,735 INFO sqlalchemy.engine.Engine SELECT\n",
      "    \"column_name\",\n",
      "    \"data_type\",\n",
      "    \"column_default\",\n",
      "    UPPER(\"is_nullable\") AS \"is_nullable\"\n",
      "FROM \"information_schema\".\"columns\"\n",
      "WHERE \"table_schema\" = ?\n",
      "  AND \"table_name\" = ?\n",
      "ORDER BY \"ordinal_position\" ASC\n",
      "2022-07-21 15:40:37,737 INFO sqlalchemy.engine.Engine [dialect trino+rest does not support caching 0.00201s] ('esg_matching', 'esg_match_ref$partitions')\n",
      "2022-07-21 15:40:39,196 INFO sqlalchemy.engine.Engine SELECT \"comment\"\n",
      "FROM \"system\".\"metadata\".\"table_comments\"\n",
      "WHERE \"schema_name\" = ?\n",
      "AND \"table_name\" = ?\n",
      "2022-07-21 15:40:39,197 INFO sqlalchemy.engine.Engine [dialect trino+rest does not support caching 0.00109s] ('esg_matching', 'esg_match_ref')\n"
     ]
    },
    {
     "name": "stderr",
     "output_type": "stream",
     "text": [
      "C:\\Users\\Patrycia\\OneDrive\\Projects\\GitHub\\os_climate\\esg-matching\\notebooks\\How-to guide\\Read data and load to a database\\../../..\\esg_matching\\engine\\connectors\\base_connector.py:354: SAWarning: index key 'record_count' was not located in columns for table 'esg_match_ref'\n",
      "  metadata.reflect(self._engine)\n",
      "C:\\Users\\Patrycia\\OneDrive\\Projects\\GitHub\\os_climate\\esg-matching\\notebooks\\How-to guide\\Read data and load to a database\\../../..\\esg_matching\\engine\\connectors\\base_connector.py:354: SAWarning: index key 'file_count' was not located in columns for table 'esg_match_ref'\n",
      "  metadata.reflect(self._engine)\n",
      "C:\\Users\\Patrycia\\OneDrive\\Projects\\GitHub\\os_climate\\esg-matching\\notebooks\\How-to guide\\Read data and load to a database\\../../..\\esg_matching\\engine\\connectors\\base_connector.py:354: SAWarning: index key 'total_size' was not located in columns for table 'esg_match_ref'\n",
      "  metadata.reflect(self._engine)\n",
      "C:\\Users\\Patrycia\\OneDrive\\Projects\\GitHub\\os_climate\\esg-matching\\notebooks\\How-to guide\\Read data and load to a database\\../../..\\esg_matching\\engine\\connectors\\base_connector.py:354: SAWarning: index key 'data' was not located in columns for table 'esg_match_ref'\n",
      "  metadata.reflect(self._engine)\n"
     ]
    },
    {
     "name": "stdout",
     "output_type": "stream",
     "text": [
      "2022-07-21 15:40:40,441 INFO sqlalchemy.engine.Engine ROLLBACK\n",
      "2022-07-21 15:40:40,442 INFO sqlalchemy.engine.Engine SELECT \"table_name\"\n",
      "FROM \"information_schema\".\"tables\"\n",
      "WHERE \"table_schema\" = ?\n",
      "  AND \"table_name\" = ?\n",
      "2022-07-21 15:40:40,443 INFO sqlalchemy.engine.Engine [dialect trino+rest does not support caching 0.00118s] ('esg_matching', 'esg_match_tgt1')\n",
      "2022-07-21 15:40:41,920 INFO sqlalchemy.engine.Engine SELECT\n",
      "    \"column_name\",\n",
      "    \"data_type\",\n",
      "    \"column_default\",\n",
      "    UPPER(\"is_nullable\") AS \"is_nullable\"\n",
      "FROM \"information_schema\".\"columns\"\n",
      "WHERE \"table_schema\" = ?\n",
      "  AND \"table_name\" = ?\n",
      "ORDER BY \"ordinal_position\" ASC\n",
      "2022-07-21 15:40:41,920 INFO sqlalchemy.engine.Engine [dialect trino+rest does not support caching 0.00081s] ('esg_matching', 'esg_match_tgt1')\n",
      "2022-07-21 15:40:43,924 INFO sqlalchemy.engine.Engine SELECT \"table_name\"\n",
      "FROM \"information_schema\".\"tables\"\n",
      "WHERE \"table_schema\" = ?\n",
      "  AND \"table_name\" = ?\n",
      "2022-07-21 15:40:43,925 INFO sqlalchemy.engine.Engine [dialect trino+rest does not support caching 0.00081s] ('esg_matching', 'esg_match_tgt1')\n",
      "2022-07-21 15:40:45,178 INFO sqlalchemy.engine.Engine SELECT\n",
      "    \"column_name\",\n",
      "    \"data_type\",\n",
      "    \"column_default\",\n",
      "    UPPER(\"is_nullable\") AS \"is_nullable\"\n",
      "FROM \"information_schema\".\"columns\"\n",
      "WHERE \"table_schema\" = ?\n",
      "  AND \"table_name\" = ?\n",
      "ORDER BY \"ordinal_position\" ASC\n",
      "2022-07-21 15:40:45,179 INFO sqlalchemy.engine.Engine [dialect trino+rest does not support caching 0.00117s] ('esg_matching', 'esg_match_tgt1$partitions')\n",
      "2022-07-21 15:40:46,818 INFO sqlalchemy.engine.Engine SELECT \"comment\"\n",
      "FROM \"system\".\"metadata\".\"table_comments\"\n",
      "WHERE \"schema_name\" = ?\n",
      "AND \"table_name\" = ?\n",
      "2022-07-21 15:40:46,819 INFO sqlalchemy.engine.Engine [dialect trino+rest does not support caching 0.00114s] ('esg_matching', 'esg_match_tgt1')\n"
     ]
    },
    {
     "name": "stderr",
     "output_type": "stream",
     "text": [
      "C:\\Users\\Patrycia\\OneDrive\\Projects\\GitHub\\os_climate\\esg-matching\\notebooks\\How-to guide\\Read data and load to a database\\../../..\\esg_matching\\engine\\connectors\\base_connector.py:354: SAWarning: index key 'record_count' was not located in columns for table 'esg_match_tgt1'\n",
      "  metadata.reflect(self._engine)\n",
      "C:\\Users\\Patrycia\\OneDrive\\Projects\\GitHub\\os_climate\\esg-matching\\notebooks\\How-to guide\\Read data and load to a database\\../../..\\esg_matching\\engine\\connectors\\base_connector.py:354: SAWarning: index key 'file_count' was not located in columns for table 'esg_match_tgt1'\n",
      "  metadata.reflect(self._engine)\n",
      "C:\\Users\\Patrycia\\OneDrive\\Projects\\GitHub\\os_climate\\esg-matching\\notebooks\\How-to guide\\Read data and load to a database\\../../..\\esg_matching\\engine\\connectors\\base_connector.py:354: SAWarning: index key 'total_size' was not located in columns for table 'esg_match_tgt1'\n",
      "  metadata.reflect(self._engine)\n",
      "C:\\Users\\Patrycia\\OneDrive\\Projects\\GitHub\\os_climate\\esg-matching\\notebooks\\How-to guide\\Read data and load to a database\\../../..\\esg_matching\\engine\\connectors\\base_connector.py:354: SAWarning: index key 'data' was not located in columns for table 'esg_match_tgt1'\n",
      "  metadata.reflect(self._engine)\n"
     ]
    },
    {
     "name": "stdout",
     "output_type": "stream",
     "text": [
      "2022-07-21 15:40:47,975 INFO sqlalchemy.engine.Engine ROLLBACK\n",
      "2022-07-21 15:40:47,976 INFO sqlalchemy.engine.Engine SELECT \"table_name\"\n",
      "FROM \"information_schema\".\"tables\"\n",
      "WHERE \"table_schema\" = ?\n",
      "  AND \"table_name\" = ?\n",
      "2022-07-21 15:40:47,978 INFO sqlalchemy.engine.Engine [dialect trino+rest does not support caching 0.00156s] ('esg_matching', 'esg_matching')\n",
      "2022-07-21 15:40:49,341 INFO sqlalchemy.engine.Engine SELECT\n",
      "    \"column_name\",\n",
      "    \"data_type\",\n",
      "    \"column_default\",\n",
      "    UPPER(\"is_nullable\") AS \"is_nullable\"\n",
      "FROM \"information_schema\".\"columns\"\n",
      "WHERE \"table_schema\" = ?\n",
      "  AND \"table_name\" = ?\n",
      "ORDER BY \"ordinal_position\" ASC\n",
      "2022-07-21 15:40:49,342 INFO sqlalchemy.engine.Engine [dialect trino+rest does not support caching 0.00133s] ('esg_matching', 'esg_matching')\n",
      "2022-07-21 15:40:50,931 INFO sqlalchemy.engine.Engine SELECT \"table_name\"\n",
      "FROM \"information_schema\".\"tables\"\n",
      "WHERE \"table_schema\" = ?\n",
      "  AND \"table_name\" = ?\n",
      "2022-07-21 15:40:50,932 INFO sqlalchemy.engine.Engine [dialect trino+rest does not support caching 0.00080s] ('esg_matching', 'esg_matching')\n",
      "2022-07-21 15:40:52,315 INFO sqlalchemy.engine.Engine SELECT\n",
      "    \"column_name\",\n",
      "    \"data_type\",\n",
      "    \"column_default\",\n",
      "    UPPER(\"is_nullable\") AS \"is_nullable\"\n",
      "FROM \"information_schema\".\"columns\"\n",
      "WHERE \"table_schema\" = ?\n",
      "  AND \"table_name\" = ?\n",
      "ORDER BY \"ordinal_position\" ASC\n",
      "2022-07-21 15:40:52,316 INFO sqlalchemy.engine.Engine [dialect trino+rest does not support caching 0.00107s] ('esg_matching', 'esg_matching$partitions')\n",
      "2022-07-21 15:40:53,795 INFO sqlalchemy.engine.Engine SELECT \"comment\"\n",
      "FROM \"system\".\"metadata\".\"table_comments\"\n",
      "WHERE \"schema_name\" = ?\n",
      "AND \"table_name\" = ?\n",
      "2022-07-21 15:40:53,797 INFO sqlalchemy.engine.Engine [dialect trino+rest does not support caching 0.00137s] ('esg_matching', 'esg_matching')\n"
     ]
    },
    {
     "name": "stderr",
     "output_type": "stream",
     "text": [
      "C:\\Users\\Patrycia\\OneDrive\\Projects\\GitHub\\os_climate\\esg-matching\\notebooks\\How-to guide\\Read data and load to a database\\../../..\\esg_matching\\engine\\connectors\\base_connector.py:354: SAWarning: index key 'record_count' was not located in columns for table 'esg_matching'\n",
      "  metadata.reflect(self._engine)\n",
      "C:\\Users\\Patrycia\\OneDrive\\Projects\\GitHub\\os_climate\\esg-matching\\notebooks\\How-to guide\\Read data and load to a database\\../../..\\esg_matching\\engine\\connectors\\base_connector.py:354: SAWarning: index key 'file_count' was not located in columns for table 'esg_matching'\n",
      "  metadata.reflect(self._engine)\n",
      "C:\\Users\\Patrycia\\OneDrive\\Projects\\GitHub\\os_climate\\esg-matching\\notebooks\\How-to guide\\Read data and load to a database\\../../..\\esg_matching\\engine\\connectors\\base_connector.py:354: SAWarning: index key 'total_size' was not located in columns for table 'esg_matching'\n",
      "  metadata.reflect(self._engine)\n",
      "C:\\Users\\Patrycia\\OneDrive\\Projects\\GitHub\\os_climate\\esg-matching\\notebooks\\How-to guide\\Read data and load to a database\\../../..\\esg_matching\\engine\\connectors\\base_connector.py:354: SAWarning: index key 'data' was not located in columns for table 'esg_matching'\n",
      "  metadata.reflect(self._engine)\n"
     ]
    },
    {
     "name": "stdout",
     "output_type": "stream",
     "text": [
      "2022-07-21 15:40:54,956 INFO sqlalchemy.engine.Engine ROLLBACK\n",
      "2022-07-21 15:40:54,957 INFO sqlalchemy.engine.Engine SELECT \"table_name\"\n",
      "FROM \"information_schema\".\"tables\"\n",
      "WHERE \"table_schema\" = ?\n",
      "  AND \"table_name\" = ?\n",
      "2022-07-21 15:40:54,958 INFO sqlalchemy.engine.Engine [dialect trino+rest does not support caching 0.00139s] ('esg_matching', 'esg_no_matching')\n",
      "2022-07-21 15:40:56,813 INFO sqlalchemy.engine.Engine SELECT\n",
      "    \"column_name\",\n",
      "    \"data_type\",\n",
      "    \"column_default\",\n",
      "    UPPER(\"is_nullable\") AS \"is_nullable\"\n",
      "FROM \"information_schema\".\"columns\"\n",
      "WHERE \"table_schema\" = ?\n",
      "  AND \"table_name\" = ?\n",
      "ORDER BY \"ordinal_position\" ASC\n",
      "2022-07-21 15:40:56,814 INFO sqlalchemy.engine.Engine [dialect trino+rest does not support caching 0.00100s] ('esg_matching', 'esg_no_matching')\n",
      "2022-07-21 15:40:58,629 INFO sqlalchemy.engine.Engine SELECT \"table_name\"\n",
      "FROM \"information_schema\".\"tables\"\n",
      "WHERE \"table_schema\" = ?\n",
      "  AND \"table_name\" = ?\n",
      "2022-07-21 15:40:58,630 INFO sqlalchemy.engine.Engine [dialect trino+rest does not support caching 0.00090s] ('esg_matching', 'esg_no_matching')\n",
      "2022-07-21 15:41:00,241 INFO sqlalchemy.engine.Engine SELECT\n",
      "    \"column_name\",\n",
      "    \"data_type\",\n",
      "    \"column_default\",\n",
      "    UPPER(\"is_nullable\") AS \"is_nullable\"\n",
      "FROM \"information_schema\".\"columns\"\n",
      "WHERE \"table_schema\" = ?\n",
      "  AND \"table_name\" = ?\n",
      "ORDER BY \"ordinal_position\" ASC\n",
      "2022-07-21 15:41:00,242 INFO sqlalchemy.engine.Engine [dialect trino+rest does not support caching 0.00114s] ('esg_matching', 'esg_no_matching$partitions')\n",
      "2022-07-21 15:41:02,022 INFO sqlalchemy.engine.Engine SELECT \"comment\"\n",
      "FROM \"system\".\"metadata\".\"table_comments\"\n",
      "WHERE \"schema_name\" = ?\n",
      "AND \"table_name\" = ?\n",
      "2022-07-21 15:41:02,023 INFO sqlalchemy.engine.Engine [dialect trino+rest does not support caching 0.00094s] ('esg_matching', 'esg_no_matching')\n"
     ]
    },
    {
     "name": "stderr",
     "output_type": "stream",
     "text": [
      "C:\\Users\\Patrycia\\OneDrive\\Projects\\GitHub\\os_climate\\esg-matching\\notebooks\\How-to guide\\Read data and load to a database\\../../..\\esg_matching\\engine\\connectors\\base_connector.py:354: SAWarning: index key 'record_count' was not located in columns for table 'esg_no_matching'\n",
      "  metadata.reflect(self._engine)\n",
      "C:\\Users\\Patrycia\\OneDrive\\Projects\\GitHub\\os_climate\\esg-matching\\notebooks\\How-to guide\\Read data and load to a database\\../../..\\esg_matching\\engine\\connectors\\base_connector.py:354: SAWarning: index key 'file_count' was not located in columns for table 'esg_no_matching'\n",
      "  metadata.reflect(self._engine)\n",
      "C:\\Users\\Patrycia\\OneDrive\\Projects\\GitHub\\os_climate\\esg-matching\\notebooks\\How-to guide\\Read data and load to a database\\../../..\\esg_matching\\engine\\connectors\\base_connector.py:354: SAWarning: index key 'total_size' was not located in columns for table 'esg_no_matching'\n",
      "  metadata.reflect(self._engine)\n",
      "C:\\Users\\Patrycia\\OneDrive\\Projects\\GitHub\\os_climate\\esg-matching\\notebooks\\How-to guide\\Read data and load to a database\\../../..\\esg_matching\\engine\\connectors\\base_connector.py:354: SAWarning: index key 'data' was not located in columns for table 'esg_no_matching'\n",
      "  metadata.reflect(self._engine)\n"
     ]
    },
    {
     "name": "stdout",
     "output_type": "stream",
     "text": [
      "2022-07-21 15:41:03,275 INFO sqlalchemy.engine.Engine ROLLBACK\n",
      "2022-07-21 15:41:03,276 INFO sqlalchemy.engine.Engine SELECT \"table_name\"\n",
      "FROM \"information_schema\".\"tables\"\n",
      "WHERE \"table_schema\" = ?\n",
      "  AND \"table_name\" = ?\n",
      "2022-07-21 15:41:03,278 INFO sqlalchemy.engine.Engine [dialect trino+rest does not support caching 0.00160s] ('esg_matching', 'matching')\n",
      "2022-07-21 15:41:04,717 INFO sqlalchemy.engine.Engine SELECT\n",
      "    \"column_name\",\n",
      "    \"data_type\",\n",
      "    \"column_default\",\n",
      "    UPPER(\"is_nullable\") AS \"is_nullable\"\n",
      "FROM \"information_schema\".\"columns\"\n",
      "WHERE \"table_schema\" = ?\n",
      "  AND \"table_name\" = ?\n",
      "ORDER BY \"ordinal_position\" ASC\n",
      "2022-07-21 15:41:04,718 INFO sqlalchemy.engine.Engine [dialect trino+rest does not support caching 0.00081s] ('esg_matching', 'matching')\n",
      "2022-07-21 15:41:06,339 INFO sqlalchemy.engine.Engine SELECT \"table_name\"\n",
      "FROM \"information_schema\".\"tables\"\n",
      "WHERE \"table_schema\" = ?\n",
      "  AND \"table_name\" = ?\n",
      "2022-07-21 15:41:06,340 INFO sqlalchemy.engine.Engine [dialect trino+rest does not support caching 0.00132s] ('esg_matching', 'matching')\n",
      "2022-07-21 15:41:07,740 INFO sqlalchemy.engine.Engine SELECT\n",
      "    \"column_name\",\n",
      "    \"data_type\",\n",
      "    \"column_default\",\n",
      "    UPPER(\"is_nullable\") AS \"is_nullable\"\n",
      "FROM \"information_schema\".\"columns\"\n",
      "WHERE \"table_schema\" = ?\n",
      "  AND \"table_name\" = ?\n",
      "ORDER BY \"ordinal_position\" ASC\n",
      "2022-07-21 15:41:07,741 INFO sqlalchemy.engine.Engine [dialect trino+rest does not support caching 0.00083s] ('esg_matching', 'matching$partitions')\n",
      "2022-07-21 15:41:09,519 INFO sqlalchemy.engine.Engine SELECT \"comment\"\n",
      "FROM \"system\".\"metadata\".\"table_comments\"\n",
      "WHERE \"schema_name\" = ?\n",
      "AND \"table_name\" = ?\n",
      "2022-07-21 15:41:09,520 INFO sqlalchemy.engine.Engine [dialect trino+rest does not support caching 0.00116s] ('esg_matching', 'matching')\n"
     ]
    },
    {
     "name": "stderr",
     "output_type": "stream",
     "text": [
      "C:\\Users\\Patrycia\\OneDrive\\Projects\\GitHub\\os_climate\\esg-matching\\notebooks\\How-to guide\\Read data and load to a database\\../../..\\esg_matching\\engine\\connectors\\base_connector.py:354: SAWarning: index key 'record_count' was not located in columns for table 'matching'\n",
      "  metadata.reflect(self._engine)\n",
      "C:\\Users\\Patrycia\\OneDrive\\Projects\\GitHub\\os_climate\\esg-matching\\notebooks\\How-to guide\\Read data and load to a database\\../../..\\esg_matching\\engine\\connectors\\base_connector.py:354: SAWarning: index key 'file_count' was not located in columns for table 'matching'\n",
      "  metadata.reflect(self._engine)\n",
      "C:\\Users\\Patrycia\\OneDrive\\Projects\\GitHub\\os_climate\\esg-matching\\notebooks\\How-to guide\\Read data and load to a database\\../../..\\esg_matching\\engine\\connectors\\base_connector.py:354: SAWarning: index key 'total_size' was not located in columns for table 'matching'\n",
      "  metadata.reflect(self._engine)\n",
      "C:\\Users\\Patrycia\\OneDrive\\Projects\\GitHub\\os_climate\\esg-matching\\notebooks\\How-to guide\\Read data and load to a database\\../../..\\esg_matching\\engine\\connectors\\base_connector.py:354: SAWarning: index key 'data' was not located in columns for table 'matching'\n",
      "  metadata.reflect(self._engine)\n"
     ]
    },
    {
     "name": "stdout",
     "output_type": "stream",
     "text": [
      "2022-07-21 15:41:10,775 INFO sqlalchemy.engine.Engine ROLLBACK\n",
      "2022-07-21 15:41:10,776 INFO sqlalchemy.engine.Engine BEGIN (implicit)\n",
      "2022-07-21 15:41:10,779 INFO sqlalchemy.engine.Engine \n",
      "DROP TABLE esg_matching.esg_no_matching\n",
      "2022-07-21 15:41:10,780 INFO sqlalchemy.engine.Engine [no key 0.00178s] ()\n",
      "2022-07-21 15:41:12,130 INFO sqlalchemy.engine.Engine COMMIT\n",
      "2022-07-21 15:41:12,133 INFO sqlalchemy.engine.Engine BEGIN (implicit)\n",
      "2022-07-21 15:41:12,134 INFO sqlalchemy.engine.Engine \n",
      "CREATE TABLE esg_matching.esg_no_matching (\n",
      "\ttimestamp TIMESTAMP(6), \n",
      "\tmatching_id BIGINT, \n",
      "\ttgt_name VARCHAR, \n",
      "\ttgt_id VARCHAR, \n",
      "\ttgt_company VARCHAR, \n",
      "\ttgt_country VARCHAR, \n",
      "\tisin VARCHAR, \n",
      "\tlei VARCHAR, \n",
      "\tsedol VARCHAR\n",
      ")\n",
      "\n",
      "\n",
      "2022-07-21 15:41:12,136 INFO sqlalchemy.engine.Engine [no key 0.00131s] ()\n",
      "2022-07-21 15:41:13,086 INFO sqlalchemy.engine.Engine COMMIT\n"
     ]
    }
   ],
   "source": [
    "# Call the create_data_source_from_settings() method by passing the File\n",
    "db_no_matching = etl_proc_obj.create_data_source(file_no_match)"
   ]
  },
  {
   "cell_type": "code",
   "execution_count": 19,
   "id": "881eb8b4",
   "metadata": {},
   "outputs": [
    {
     "data": {
      "text/plain": [
       "['timestamp',\n",
       " 'matching_id',\n",
       " 'tgt_name',\n",
       " 'tgt_id',\n",
       " 'tgt_company',\n",
       " 'tgt_country',\n",
       " 'isin',\n",
       " 'lei',\n",
       " 'sedol']"
      ]
     },
     "execution_count": 19,
     "metadata": {},
     "output_type": "execute_result"
    }
   ],
   "source": [
    "# Retrieve the attribute names of the database table\n",
    "db_no_matching.get_attribute_names()"
   ]
  },
  {
   "cell_type": "markdown",
   "id": "8c332806",
   "metadata": {},
   "source": [
    "## 5. Disconnect"
   ]
  },
  {
   "cell_type": "code",
   "execution_count": 20,
   "id": "f834a442",
   "metadata": {},
   "outputs": [],
   "source": [
    "db_conn.disconnect()"
   ]
  },
  {
   "cell_type": "code",
   "execution_count": 21,
   "id": "11884c08",
   "metadata": {},
   "outputs": [
    {
     "data": {
      "text/plain": [
       "False"
      ]
     },
     "execution_count": 21,
     "metadata": {},
     "output_type": "execute_result"
    }
   ],
   "source": [
    "db_conn.is_connected()"
   ]
  },
  {
   "cell_type": "code",
   "execution_count": null,
   "id": "c0acca0b",
   "metadata": {},
   "outputs": [],
   "source": []
  }
 ],
 "metadata": {
  "kernelspec": {
   "display_name": "Python 3 (ipykernel)",
   "language": "python",
   "name": "python3"
  },
  "language_info": {
   "codemirror_mode": {
    "name": "ipython",
    "version": 3
   },
   "file_extension": ".py",
   "mimetype": "text/x-python",
   "name": "python",
   "nbconvert_exporter": "python",
   "pygments_lexer": "ipython3",
   "version": "3.10.5"
  }
 },
 "nbformat": 4,
 "nbformat_minor": 5
}
